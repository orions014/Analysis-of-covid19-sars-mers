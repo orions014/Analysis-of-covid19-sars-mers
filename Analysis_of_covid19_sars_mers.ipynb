{
  "nbformat": 4,
  "nbformat_minor": 0,
  "metadata": {
    "colab": {
      "name": "Analysis_of_covid19_sars_mers.ipynb",
      "provenance": []
    },
    "kernelspec": {
      "name": "python3",
      "display_name": "Python 3"
    }
  },
  "cells": [
    {
      "cell_type": "markdown",
      "metadata": {
        "id": "5rdzRiXr70f4",
        "colab_type": "text"
      },
      "source": [
        "**DNA sequence and protein sequenc  analysis of covid-19, sars, mers virus\n",
        "fasta data link:**\n",
        "\n",
        "https://www.ncbi.nlm.nih.gov/nuccore/NC_045512.2?report=fasta\n",
        "\n",
        "\n",
        "https://www.ncbi.nlm.nih.gov/nuccore/NC_004718.3?report=fasta\n",
        "https://www.ncbi.nlm.nih.gov/nuccore/NC_019843.3?report=fasta"
      ]
    },
    {
      "cell_type": "code",
      "metadata": {
        "id": "RENS_4Eh9vuR",
        "colab_type": "code",
        "colab": {}
      },
      "source": [
        "!mkdir -p drive\n",
        "!google-drive-ocamlfuse drive\n"
      ],
      "execution_count": null,
      "outputs": []
    },
    {
      "cell_type": "code",
      "metadata": {
        "id": "pATy2Gb8-fZ5",
        "colab_type": "code",
        "colab": {}
      },
      "source": [
        "!cp -rf drive/Colab/DNA/mers_sequence.fasta .\n",
        "!cp -rf drive/Colab/DNA/sars_sequence.fasta .\n",
        "!cp -rf drive/Colab/DNA/covid19_sequence.fasta .\n",
        "\n"
      ],
      "execution_count": null,
      "outputs": []
    },
    {
      "cell_type": "code",
      "metadata": {
        "id": "B4XTgNl8-u6B",
        "colab_type": "code",
        "colab": {
          "base_uri": "https://localhost:8080/",
          "height": 139
        },
        "outputId": "5fdce241-c04d-4165-884c-875f18dc96b3"
      },
      "source": [
        "!pip install biopython"
      ],
      "execution_count": null,
      "outputs": [
        {
          "output_type": "stream",
          "text": [
            "Collecting biopython\n",
            "\u001b[?25l  Downloading https://files.pythonhosted.org/packages/a8/66/134dbd5f885fc71493c61b6cf04c9ea08082da28da5ed07709b02857cbd0/biopython-1.77-cp36-cp36m-manylinux1_x86_64.whl (2.3MB)\n",
            "\u001b[K     |████████████████████████████████| 2.3MB 2.7MB/s \n",
            "\u001b[?25hRequirement already satisfied: numpy in /usr/local/lib/python3.6/dist-packages (from biopython) (1.18.5)\n",
            "Installing collected packages: biopython\n",
            "Successfully installed biopython-1.77\n"
          ],
          "name": "stdout"
        }
      ]
    },
    {
      "cell_type": "code",
      "metadata": {
        "id": "Rydfs1sy-4MT",
        "colab_type": "code",
        "colab": {}
      },
      "source": [
        "from Bio import SeqIO\n",
        "from Bio.SeqUtils import GC\n",
        "from Bio.SeqUtils.ProtParam import ProteinAnalysis\n",
        "from collections import Counter\n",
        "import numpy as np\n",
        "import matplotlib.pyplot as plt\n",
        "\n"
      ],
      "execution_count": null,
      "outputs": []
    },
    {
      "cell_type": "code",
      "metadata": {
        "id": "t0f98aaB_HHC",
        "colab_type": "code",
        "colab": {}
      },
      "source": [
        "covid19 = SeqIO.read(\"covid19_sequence.fasta\",\"fasta\")\n",
        "mers = SeqIO.read(\"mers_sequence.fasta\",\"fasta\")\n",
        "sars = SeqIO.read(\"sars_sequence.fasta\",\"fasta\")\n"
      ],
      "execution_count": null,
      "outputs": []
    },
    {
      "cell_type": "code",
      "metadata": {
        "id": "4VebUmv__UEU",
        "colab_type": "code",
        "colab": {}
      },
      "source": [
        "covid19_sequence = covid19.seq\n",
        "mers_sequence  = mers.seq\n",
        "sars_sequence  = sars.seq"
      ],
      "execution_count": null,
      "outputs": []
    },
    {
      "cell_type": "code",
      "metadata": {
        "id": "6LocFXjt_1tr",
        "colab_type": "code",
        "colab": {
          "base_uri": "https://localhost:8080/",
          "height": 68
        },
        "outputId": "93921cf7-eb43-4cdd-bbc8-cf85e27a838c"
      },
      "source": [
        "print(\"Length of covid19_sequence is \",len(covid19_sequence))\n",
        "print(\"Length of mers_sequence is\",len(mers_sequence))\n",
        "print(\"Length of sars_sequence is\",len(sars_sequence))\n"
      ],
      "execution_count": null,
      "outputs": [
        {
          "output_type": "stream",
          "text": [
            "Length of covid19_sequence is  29903\n",
            "Length of mers_sequence is 30119\n",
            "Length of sars_sequence is 29751\n"
          ],
          "name": "stdout"
        }
      ]
    },
    {
      "cell_type": "code",
      "metadata": {
        "id": "N8jBBG4vAKJO",
        "colab_type": "code",
        "colab": {
          "base_uri": "https://localhost:8080/",
          "height": 68
        },
        "outputId": "04445da8-8899-403a-c6cd-bbf4b7b66c76"
      },
      "source": [
        "print(\"Portion of GC(guanine-cytosine content) in covid19_sequence is \",GC(covid19_sequence))\n",
        "print(\"Portion of GC(guanine-cytosine content) in mers_sequence is\",GC(mers_sequence))\n",
        "print(\"Portion of GC(guanine-cytosine content) in sars_sequence is\",GC(sars_sequence))\n"
      ],
      "execution_count": null,
      "outputs": [
        {
          "output_type": "stream",
          "text": [
            "Portion of GC(guanine-cytosine content) in covid19_sequence is  37.97277865097148\n",
            "Portion of GC(guanine-cytosine content) in mers_sequence is 41.23642883229855\n",
            "Portion of GC(guanine-cytosine content) in sars_sequence is 40.7616550704178\n"
          ],
          "name": "stdout"
        }
      ]
    },
    {
      "cell_type": "markdown",
      "metadata": {
        "id": "wpyXF-qoBNng",
        "colab_type": "text"
      },
      "source": [
        "**As DNA with high GC content is more stable than DNA with low GC content. So, here mers is more stable than other viruses**"
      ]
    },
    {
      "cell_type": "markdown",
      "metadata": {
        "id": "iqd4-XJpCeW4",
        "colab_type": "text"
      },
      "source": [
        "**Protein analysis of these three virus**"
      ]
    },
    {
      "cell_type": "code",
      "metadata": {
        "id": "CLDYp71aAr9g",
        "colab_type": "code",
        "colab": {
          "base_uri": "https://localhost:8080/",
          "height": 71
        },
        "outputId": "e416db1e-7d97-4788-f99e-689b95a59422"
      },
      "source": [
        "covid19_protein_seq = covid19_sequence.translate()\n",
        "mers_protein_seq = mers_sequence.translate()\n",
        "sars_protein_seq = sars_sequence.translate()"
      ],
      "execution_count": null,
      "outputs": [
        {
          "output_type": "stream",
          "text": [
            "/usr/local/lib/python3.6/dist-packages/Bio/Seq.py:2742: BiopythonWarning: Partial codon, len(sequence) not a multiple of three. Explicitly trim the sequence or add trailing N before translation. This may become an error in future.\n",
            "  BiopythonWarning,\n"
          ],
          "name": "stderr"
        }
      ]
    },
    {
      "cell_type": "markdown",
      "metadata": {
        "id": "iYmSfkFJDNKh",
        "colab_type": "text"
      },
      "source": [
        "**Frequency of Amino acids in these three viruses**"
      ]
    },
    {
      "cell_type": "code",
      "metadata": {
        "id": "FXrAwrSPC7rW",
        "colab_type": "code",
        "colab": {}
      },
      "source": [
        "covid19_ac_freq = Counter(covid19_protein_seq)\n",
        "mers_ac_freq = Counter(mers_protein_seq)\n",
        "sars_ac_freq = Counter(sars_protein_seq)\n"
      ],
      "execution_count": null,
      "outputs": []
    },
    {
      "cell_type": "markdown",
      "metadata": {
        "id": "2cxrDjFoEcUk",
        "colab_type": "text"
      },
      "source": [
        "**Bar chart of covid-19's amino acids frequncy**"
      ]
    },
    {
      "cell_type": "code",
      "metadata": {
        "id": "UXxNq4P7EMxQ",
        "colab_type": "code",
        "colab": {
          "base_uri": "https://localhost:8080/",
          "height": 317
        },
        "outputId": "63d7a00d-712f-42e4-c421-b73428ac81b5"
      },
      "source": [
        "plt.bar(covid19_ac_freq.keys(), covid19_ac_freq.values())\n",
        "plt.title(\"Frequenc of amino acids in Covid 19\", fontsize=15)\n",
        "plt.xlabel(\"Amino acids\", fontsize=13)\n",
        "plt.ylabel(\"Frequency\")\n",
        "\n",
        "\n",
        "\n"
      ],
      "execution_count": null,
      "outputs": [
        {
          "output_type": "execute_result",
          "data": {
            "text/plain": [
              "Text(0, 0.5, 'Frequency')"
            ]
          },
          "metadata": {
            "tags": []
          },
          "execution_count": 36
        },
        {
          "output_type": "display_data",
          "data": {
            "image/png": "[encoded data removed]",
            "text/plain": [
              "<Figure size 432x288 with 1 Axes>"
            ]
          },
          "metadata": {
            "tags": [],
            "needs_background": "light"
          }
        }
      ]
    },
    {
      "cell_type": "markdown",
      "metadata": {
        "id": "nNWlOu7OE24X",
        "colab_type": "text"
      },
      "source": [
        "**Bar chart of mers's amino acids frequncy**\n",
        "\n",
        "> Indented block\n",
        "\n",
        "\n",
        "\n"
      ]
    },
    {
      "cell_type": "code",
      "metadata": {
        "id": "FbfzJfmcEwZa",
        "colab_type": "code",
        "colab": {
          "base_uri": "https://localhost:8080/",
          "height": 317
        },
        "outputId": "670462d2-34e2-4fc2-f5a4-024bcbc89dcc"
      },
      "source": [
        "plt.bar(mers_ac_freq.keys(), mers_ac_freq.values())\n",
        "plt.title(\"Frequenc of amino acids in mers\", fontsize=15)\n",
        "plt.xlabel(\"Amino acids\", fontsize=13)\n",
        "plt.ylabel(\"Frequency\")\n"
      ],
      "execution_count": null,
      "outputs": [
        {
          "output_type": "execute_result",
          "data": {
            "text/plain": [
              "Text(0, 0.5, 'Frequency')"
            ]
          },
          "metadata": {
            "tags": []
          },
          "execution_count": 37
        },
        {
          "output_type": "display_data",
          "data": {
            "image/png": "[encoded data removed]",
            "text/plain": [
              "<Figure size 432x288 with 1 Axes>"
            ]
          },
          "metadata": {
            "tags": [],
            "needs_background": "light"
          }
        }
      ]
    },
    {
      "cell_type": "markdown",
      "metadata": {
        "id": "TlnYuNylFEVn",
        "colab_type": "text"
      },
      "source": [
        "**Bar chart of sars's amino acids frequncy**"
      ]
    },
    {
      "cell_type": "code",
      "metadata": {
        "id": "IT6G94otFOg6",
        "colab_type": "code",
        "colab": {
          "base_uri": "https://localhost:8080/",
          "height": 317
        },
        "outputId": "016c9af8-eb32-4b1e-d164-3a62795fe160"
      },
      "source": [
        "\n",
        "plt.bar(sars_ac_freq.keys(), sars_ac_freq.values())\n",
        "plt.title(\"Frequenc of amino acids in sars\", fontsize=15)\n",
        "plt.xlabel(\"Amino acids\", fontsize=13)\n",
        "plt.ylabel(\"Frequency\")\n",
        "\n"
      ],
      "execution_count": null,
      "outputs": [
        {
          "output_type": "execute_result",
          "data": {
            "text/plain": [
              "Text(0, 0.5, 'Frequency')"
            ]
          },
          "metadata": {
            "tags": []
          },
          "execution_count": 38
        },
        {
          "output_type": "display_data",
          "data": {
            "image/png": "[encoded data removed]",
            "text/plain": [
              "<Figure size 432x288 with 1 Axes>"
            ]
          },
          "metadata": {
            "tags": [],
            "needs_background": "light"
          }
        }
      ]
    },
    {
      "cell_type": "markdown",
      "metadata": {
        "id": "Fd2OVcLCUBRP",
        "colab_type": "text"
      },
      "source": [
        "**To comparing amino acids frequency in each virus together storing values key wise and key as lists**"
      ]
    },
    {
      "cell_type": "code",
      "metadata": {
        "id": "QKfgIaWdI541",
        "colab_type": "code",
        "colab": {}
      },
      "source": [
        "covid_19_aminoacid_frq = []\n",
        "mers_aminoacid_frq = []\n",
        "sars_amino_acid_frq = []\n",
        "labels = []\n",
        "for key in covid19_ac_freq:\n",
        "  labels.append(key)\n",
        "  covid_19_aminoacid_frq.append(covid19_ac_freq[key])\n",
        "  mers_aminoacid_frq.append(mers_ac_freq[key])\n",
        "  sars_amino_acid_frq.append(sars_ac_freq[key])\n",
        "\n"
      ],
      "execution_count": null,
      "outputs": []
    },
    {
      "cell_type": "code",
      "metadata": {
        "id": "PCcE2wV3K9n4",
        "colab_type": "code",
        "colab": {
          "base_uri": "https://localhost:8080/",
          "height": 297
        },
        "outputId": "7b91e692-438a-4e01-8739-872e42f4a881"
      },
      "source": [
        "\n",
        "x = np.arange(len(labels))  # the label locations\n",
        "width = .2  # the width of the bars\n",
        "\n",
        "fig, ax = plt.subplots()\n",
        "ax.bar(x - width, covid_19_aminoacid_frq, width,label='Covid-19')\n",
        "ax.bar(x , mers_aminoacid_frq,width, label='Mers')\n",
        "ax.bar(x + width, sars_amino_acid_frq,width, label='Sars')\n",
        "\n",
        "# Add some text for labels, title and custom x-axis tick labels, etc.\n",
        "ax.set_ylabel('Frequency')\n",
        "ax.set_title('Count of amino acid by group by its freuency')\n",
        "ax.set_xticks(x)\n",
        "ax.set_xticklabels(labels)\n",
        "ax.legend()\n",
        "fig.tight_layout()\n",
        "plt.show()"
      ],
      "execution_count": null,
      "outputs": [
        {
          "output_type": "display_data",
          "data": {
            "image/png": "[encoded data removed]",
            "text/plain": [
              "<Figure size 432x288 with 1 Axes>"
            ]
          },
          "metadata": {
            "tags": [],
            "needs_background": "light"
          }
        }
      ]
    },
    {
      "cell_type": "markdown",
      "metadata": {
        "id": "CAAb_TVWUfSd",
        "colab_type": "text"
      },
      "source": [
        "**We can see that amino acid L is higher in mers virus among the three virus**"
      ]
    },
    {
      "cell_type": "code",
      "metadata": {
        "id": "ygpWIR5wP5ze",
        "colab_type": "code",
        "colab": {}
      },
      "source": [
        ""
      ],
      "execution_count": null,
      "outputs": []
    }
  ]
}